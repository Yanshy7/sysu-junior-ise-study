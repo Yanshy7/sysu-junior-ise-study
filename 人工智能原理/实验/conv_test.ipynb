{
 "cells": [
  {
   "cell_type": "code",
   "execution_count": 1,
   "metadata": {},
   "outputs": [],
   "source": [
    "import numpy as np\n",
    "import pickle\n",
    "import matplotlib\n",
    "import matplotlib.pyplot as plt\n",
    "import math\n",
    "from functools import reduce\n",
    "import random\n",
    "import torch\n",
    "%matplotlib inline\n",
    "np.random.seed(42)"
   ]
  },
  {
   "cell_type": "code",
   "execution_count": 2,
   "metadata": {},
   "outputs": [],
   "source": [
    "def load():\n",
    "    with open(\"mnist.pkl\",'rb') as f:\n",
    "        mnist = pickle.load(f)\n",
    "    return mnist[\"training_images\"], mnist[\"training_labels\"], mnist[\"test_images\"], mnist[\"test_labels\"]\n",
    "X_train, Y_train, X_test, Y_test = load()"
   ]
  },
  {
   "cell_type": "code",
   "execution_count": 3,
   "metadata": {},
   "outputs": [
    {
     "data": {
      "text/plain": [
       "<matplotlib.image.AxesImage at 0x2231d6cb788>"
      ]
     },
     "execution_count": 3,
     "metadata": {},
     "output_type": "execute_result"
    },
    {
     "data": {
      "image/png": "[encoded data removed]",
      "text/plain": [
       "<Figure size 432x288 with 1 Axes>"
      ]
     },
     "metadata": {
      "needs_background": "light"
     },
     "output_type": "display_data"
    }
   ],
   "source": [
    "plt.imshow(X_train[0].reshape(28,28))"
   ]
  },
  {
   "cell_type": "code",
   "execution_count": 146,
   "metadata": {},
   "outputs": [],
   "source": [
    "class Conv2d():\n",
    "    def __init__(self, in_channels, out_channels, kernel_size, stride=1):\n",
    "        self.in_channels = in_channels\n",
    "        self.out_channels = out_channels\n",
    "        self.kernel_size = kernel_size\n",
    "        self.weight_size = (self.out_channels, self.in_channels, self.kernel_size, self.kernel_size)\n",
    "        self.stride = stride\n",
    "\n",
    "        self.W = {'val': np.random.standard_normal(self.weight_size), 'grad': 0}\n",
    "        self.b = {'val':  np.random.standard_normal((self.out_channels,1)), 'grad': 0}\n",
    "        \n",
    "        self.cache = None\n",
    "\n",
    "    def forward(self, x):\n",
    "        (N,C,H,W) = x.shape\n",
    "        self.input_shape = x.shape\n",
    "        H_out = (H - self.kernel_size) // self.stride + 1\n",
    "        W_out = (W - self.kernel_size) // self.stride + 1\n",
    "        conv_out = np.zeros((N, self.out_channels, H_out, W_out))\n",
    "        self.col_image = []\n",
    "        \n",
    "        weight_cols = self.W['val'].reshape(self.out_channels, -1)\n",
    "        for i in range(N):\n",
    "            img_i = x[i][np.newaxis, :]\n",
    "            x_cols = im2col(img_i, self.kernel_size, self.stride)\n",
    "            conv_out[i] = (np.dot(weight_cols, x_cols.T) + self.b['val']).reshape(self.out_channels, H_out, W_out)\n",
    "            self.col_image.append(x_cols)\n",
    "        self.col_image = np.array(self.col_image)\n",
    "        \n",
    "        return conv_out\n",
    "        \n",
    "    def backward(self, error):\n",
    "        (N,C,_,_) = error.shape\n",
    "        error_col = error.reshape(N,C,-1)\n",
    "        for i in range(N):\n",
    "            self.W['grad'] += np.dot(error_col[i], self.col_image[i]).reshape(self.W['val'].shape)\n",
    "        self.b['grad'] += np.sum(error_col, axis=(0,2)).reshape(self.b['val'].shape)\n",
    "        \n",
    "        error_pad =np.pad(error, ((0,0), (0,0), (self.kernel_size - 1, self.kernel_size - 1),\n",
    "                          (self.kernel_size - 1, self.kernel_size - 1)), 'constant', constant_values=0)\n",
    "        \n",
    "        flip_weights = self.W['val'][:, :, ::-1, ::-1]\n",
    "        flip_weights = flip_weights.swapaxes(0,1) # hard to make sure\n",
    "        col_flip_weights = flip_weights.reshape(self.in_channels, -1)\n",
    "        \n",
    "        col_pad_delta = np.array([im2col(error_pad[i][np.newaxis, :], self.kernel_size, self.stride) for i in range(N)])\n",
    "        next_delta = np.dot(col_pad_delta, col_flip_weights.T)\n",
    "        print(next_delta.shape,next_delta.transpose(0,2,1).shape)\n",
    "        next_delta = np.reshape(next_delta.transpose(0,2,1), self.input_shape)\n",
    "        \n",
    "        return next_delta\n",
    "\n",
    "def im2col(image, kernel_size, stride):\n",
    "    (N, C, H, W) = image.shape\n",
    "    image_col = []\n",
    "    for i in range(0, H - kernel_size + 1, stride):\n",
    "        for j in range(0, W - kernel_size + 1, stride):\n",
    "            col = image[:, :, i:i+kernel_size, j:j+kernel_size].reshape(-1)\n",
    "            image_col.append(col)\n",
    "    image_col = np.array(image_col)\n",
    "    return image_col\n",
    "\n",
    "def im2col_fast(image, kernel_size, stride):\n",
    "    # Parameters\n",
    "    N, C, H, W = image.shape\n",
    "    H_out = (H - kernel_size) // stride + 1\n",
    "    W_out = (W - kernel_size) // stride + 1\n",
    "    shape = (N, C, H_out, W_out, kernel_size, kernel_size)\n",
    "    strides = (*image.strides[:-2], image.strides[-2]*stride,\n",
    "               image.strides[-1]*stride, *image.strides[-2:])\n",
    "\n",
    "    out_view = np.lib.stride_tricks.as_strided(image, shape=shape, strides=stride)\n",
    "    return out_view"
   ]
  },
  {
   "cell_type": "code",
   "execution_count": 179,
   "metadata": {},
   "outputs": [],
   "source": [
    "def split_by_strides(X, kh, kw, s):\n",
    "    N, C, H, W = X.shape\n",
    "    oh = (H - kh) // s + 1\n",
    "    ow = (W - kw) // s + 1\n",
    "    strides = (*X.strides[:-2], X.strides[-2]*s, X.strides[-1]*s, *X.strides[-2:])\n",
    "    A = np.lib.stride_tricks.as_strided(X, shape=(N,C,oh,ow,kh,kw), strides=strides)\n",
    "    return A"
   ]
  },
  {
   "cell_type": "code",
   "execution_count": 180,
   "metadata": {},
   "outputs": [
    {
     "data": {
      "text/plain": [
       "array([[[[ 0,  1,  2,  3],\n",
       "         [ 4,  5,  6,  7],\n",
       "         [ 8,  9, 10, 11],\n",
       "         [12, 13, 14, 15]]],\n",
       "\n",
       "\n",
       "       [[[16, 17, 18, 19],\n",
       "         [20, 21, 22, 23],\n",
       "         [24, 25, 26, 27],\n",
       "         [28, 29, 30, 31]]]])"
      ]
     },
     "execution_count": 180,
     "metadata": {},
     "output_type": "execute_result"
    }
   ],
   "source": [
    "w = np.arange(32).reshape(2,1,4,4)\n",
    "w"
   ]
  },
  {
   "cell_type": "code",
   "execution_count": 181,
   "metadata": {},
   "outputs": [
    {
     "data": {
      "text/plain": [
       "array([[ 0,  1,  4,  5, 16, 17, 20, 21],\n",
       "       [ 1,  2,  5,  6, 17, 18, 21, 22],\n",
       "       [ 2,  3,  6,  7, 18, 19, 22, 23],\n",
       "       [ 4,  5,  8,  9, 20, 21, 24, 25],\n",
       "       [ 5,  6,  9, 10, 21, 22, 25, 26],\n",
       "       [ 6,  7, 10, 11, 22, 23, 26, 27],\n",
       "       [ 8,  9, 12, 13, 24, 25, 28, 29],\n",
       "       [ 9, 10, 13, 14, 25, 26, 29, 30],\n",
       "       [10, 11, 14, 15, 26, 27, 30, 31]])"
      ]
     },
     "execution_count": 181,
     "metadata": {},
     "output_type": "execute_result"
    }
   ],
   "source": [
    "im2col(w,2,1)"
   ]
  },
  {
   "cell_type": "code",
   "execution_count": 195,
   "metadata": {},
   "outputs": [
    {
     "data": {
      "text/plain": [
       "array([[[[ 0,  1,  4,  5,  1,  2,  5,  6,  2],\n",
       "         [ 3,  6,  7,  4,  5,  8,  9,  5,  6],\n",
       "         [ 9, 10,  6,  7, 10, 11,  8,  9, 12],\n",
       "         [13,  9, 10, 13, 14, 10, 11, 14, 15]]],\n",
       "\n",
       "\n",
       "       [[[16, 17, 20, 21, 17, 18, 21, 22, 18],\n",
       "         [19, 22, 23, 20, 21, 24, 25, 21, 22],\n",
       "         [25, 26, 22, 23, 26, 27, 24, 25, 28],\n",
       "         [29, 25, 26, 29, 30, 26, 27, 30, 31]]]])"
      ]
     },
     "execution_count": 195,
     "metadata": {},
     "output_type": "execute_result"
    }
   ],
   "source": [
    "split_by_strides(w,2,2,1)"
   ]
  },
  {
   "cell_type": "code",
   "execution_count": 103,
   "metadata": {},
   "outputs": [
    {
     "data": {
      "text/plain": [
       "(1, 12)"
      ]
     },
     "execution_count": 103,
     "metadata": {},
     "output_type": "execute_result"
    }
   ],
   "source": [
    "w[:, :, ::-1, ::-1].swapaxes(0,1).reshape(1,-1).shape"
   ]
  },
  {
   "cell_type": "code",
   "execution_count": 131,
   "metadata": {},
   "outputs": [
    {
     "data": {
      "text/plain": [
       "array([[[[ 0,  1,  2],\n",
       "         [ 3,  4,  5],\n",
       "         [ 6,  7,  8]]],\n",
       "\n",
       "\n",
       "       [[[ 9, 10, 11],\n",
       "         [12, 13, 14],\n",
       "         [15, 16, 17]]]])"
      ]
     },
     "execution_count": 131,
     "metadata": {},
     "output_type": "execute_result"
    }
   ],
   "source": [
    "img = np.arange(18).reshape(2,1,3,3)\n",
    "img"
   ]
  },
  {
   "cell_type": "code",
   "execution_count": 132,
   "metadata": {},
   "outputs": [],
   "source": [
    "conv = Conv2d(1,6,2)"
   ]
  },
  {
   "cell_type": "code",
   "execution_count": 133,
   "metadata": {},
   "outputs": [
    {
     "data": {
      "text/plain": [
       "array([[[[  3.5902627 ,   8.12895827],\n",
       "         [ 17.20634941,  21.74504498]],\n",
       "\n",
       "        [[  1.88773956,   3.62287507],\n",
       "         [  7.09314608,   8.82828159]],\n",
       "\n",
       "        [[-13.09884549, -17.02165118],\n",
       "         [-24.86726256, -28.79006825]],\n",
       "\n",
       "        [[  4.58111275,   6.6057    ],\n",
       "         [ 10.65487451,  12.67946176]],\n",
       "\n",
       "        [[ -7.22630649,  -8.73672254],\n",
       "         [-11.75755464, -13.26797069]],\n",
       "\n",
       "        [[ -7.65071473,  -9.45590617],\n",
       "         [-13.06628904, -14.87148048]]],\n",
       "\n",
       "\n",
       "       [[[ 44.43852283,  48.9772184 ],\n",
       "         [ 58.05460954,  62.59330511]],\n",
       "\n",
       "        [[ 17.50395912,  19.23909463],\n",
       "         [ 22.70936564,  24.44450115]],\n",
       "\n",
       "        [[-48.4040967 , -52.32690239],\n",
       "         [-60.17251377, -64.09531946]],\n",
       "\n",
       "        [[ 22.80239803,  24.82698529],\n",
       "         [ 28.87615979,  30.90074705]],\n",
       "\n",
       "        [[-20.82005095, -22.330467  ],\n",
       "         [-25.3512991 , -26.86171515]],\n",
       "\n",
       "        [[-23.89743768, -25.70262912],\n",
       "         [-29.31301199, -31.11820343]]]])"
      ]
     },
     "execution_count": 133,
     "metadata": {},
     "output_type": "execute_result"
    }
   ],
   "source": [
    "out = conv.forward(img)\n",
    "out\n"
   ]
  },
  {
   "cell_type": "code",
   "execution_count": 134,
   "metadata": {},
   "outputs": [
    {
     "data": {
      "text/plain": [
       "array([[[[  4.5902627 ,   9.12895827],\n",
       "         [ 18.20634941,  22.74504498]],\n",
       "\n",
       "        [[  2.88773956,   4.62287507],\n",
       "         [  8.09314608,   9.82828159]],\n",
       "\n",
       "        [[-12.09884549, -16.02165118],\n",
       "         [-23.86726256, -27.79006825]],\n",
       "\n",
       "        [[  5.58111275,   7.6057    ],\n",
       "         [ 11.65487451,  13.67946176]],\n",
       "\n",
       "        [[ -6.22630649,  -7.73672254],\n",
       "         [-10.75755464, -12.26797069]],\n",
       "\n",
       "        [[ -6.65071473,  -8.45590617],\n",
       "         [-12.06628904, -13.87148048]]],\n",
       "\n",
       "\n",
       "       [[[ 45.43852283,  49.9772184 ],\n",
       "         [ 59.05460954,  63.59330511]],\n",
       "\n",
       "        [[ 18.50395912,  20.23909463],\n",
       "         [ 23.70936564,  25.44450115]],\n",
       "\n",
       "        [[-47.4040967 , -51.32690239],\n",
       "         [-59.17251377, -63.09531946]],\n",
       "\n",
       "        [[ 23.80239803,  25.82698529],\n",
       "         [ 29.87615979,  31.90074705]],\n",
       "\n",
       "        [[-19.82005095, -21.330467  ],\n",
       "         [-24.3512991 , -25.86171515]],\n",
       "\n",
       "        [[-22.89743768, -24.70262912],\n",
       "         [-28.31301199, -30.11820343]]]])"
      ]
     },
     "execution_count": 134,
     "metadata": {},
     "output_type": "execute_result"
    }
   ],
   "source": [
    "y = out + 1\n",
    "y"
   ]
  },
  {
   "cell_type": "code",
   "execution_count": 135,
   "metadata": {},
   "outputs": [
    {
     "name": "stdout",
     "output_type": "stream",
     "text": [
      "(2, 9, 1) (2, 1, 9)\n"
     ]
    },
    {
     "data": {
      "text/plain": [
       "array([[[[ 5.50782252,  6.17780148,  0.66997896],\n",
       "         [ 0.84220891,  1.06000515,  0.21779624],\n",
       "         [-4.66561361, -5.11779633, -0.45218272]]],\n",
       "\n",
       "\n",
       "       [[[ 5.50782252,  6.17780148,  0.66997896],\n",
       "         [ 0.84220891,  1.06000515,  0.21779624],\n",
       "         [-4.66561361, -5.11779633, -0.45218272]]]])"
      ]
     },
     "execution_count": 135,
     "metadata": {},
     "output_type": "execute_result"
    }
   ],
   "source": [
    "conv.backward(y - out)"
   ]
  },
  {
   "cell_type": "code",
   "execution_count": 128,
   "metadata": {},
   "outputs": [
    {
     "data": {
      "text/plain": [
       "array([8., 8., 8., 8., 8., 8.])"
      ]
     },
     "execution_count": 128,
     "metadata": {},
     "output_type": "execute_result"
    }
   ],
   "source": [
    "a = 0\n",
    "a += np.sum((y-out).reshape(2,6,-1), axis=(0,2))\n",
    "a"
   ]
  },
  {
   "cell_type": "code",
   "execution_count": 28,
   "metadata": {},
   "outputs": [
    {
     "data": {
      "text/plain": [
       "array([[8.],\n",
       "       [8.],\n",
       "       [8.],\n",
       "       [8.],\n",
       "       [8.],\n",
       "       [8.]])"
      ]
     },
     "execution_count": 28,
     "metadata": {},
     "output_type": "execute_result"
    }
   ],
   "source": [
    "conv.b['grad']"
   ]
  }
 ],
 "metadata": {
  "kernelspec": {
   "display_name": "Python 3",
   "language": "python",
   "name": "python3"
  },
  "language_info": {
   "codemirror_mode": {
    "name": "ipython",
    "version": 3
   },
   "file_extension": ".py",
   "mimetype": "text/x-python",
   "name": "python",
   "nbconvert_exporter": "python",
   "pygments_lexer": "ipython3",
   "version": "3.7.4"
  }
 },
 "nbformat": 4,
 "nbformat_minor": 4
}
