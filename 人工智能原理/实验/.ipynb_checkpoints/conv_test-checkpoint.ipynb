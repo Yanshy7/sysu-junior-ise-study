{
 "cells": [
  {
   "cell_type": "code",
   "execution_count": 1,
   "metadata": {},
   "outputs": [],
   "source": [
    "import numpy as np\n",
    "import pickle\n",
    "import matplotlib\n",
    "import matplotlib.pyplot as plt\n",
    "import math\n",
    "from functools import reduce\n",
    "import random\n",
    "import torch\n",
    "%matplotlib inline\n",
    "np.random.seed(42)"
   ]
  },
  {
   "cell_type": "code",
   "execution_count": 2,
   "metadata": {},
   "outputs": [],
   "source": [
    "def load():\n",
    "    with open(\"mnist.pkl\",'rb') as f:\n",
    "        mnist = pickle.load(f)\n",
    "    return mnist[\"training_images\"], mnist[\"training_labels\"], mnist[\"test_images\"], mnist[\"test_labels\"]\n",
    "X_train, Y_train, X_test, Y_test = load()"
   ]
  },
  {
   "cell_type": "code",
   "execution_count": 3,
   "metadata": {},
   "outputs": [
    {
     "data": {
      "text/plain": [
       "<matplotlib.image.AxesImage at 0x2231d6cb788>"
      ]
     },
     "execution_count": 3,
     "metadata": {},
     "output_type": "execute_result"
    },
    {
     "data": {
      "image/png": "[encoded data removed]",
      "text/plain": [
       "<Figure size 432x288 with 1 Axes>"
      ]
     },
     "metadata": {
      "needs_background": "light"
     },
     "output_type": "display_data"
    }
   ],
   "source": [
    "plt.imshow(X_train[0].reshape(28,28))"
   ]
  },
  {
   "cell_type": "code",
   "execution_count": 53,
   "metadata": {},
   "outputs": [],
   "source": [
    "class Conv2d():\n",
    "    def __init__(self, in_channels, out_channels, kernel_size, stride=1):\n",
    "        self.in_channels = in_channels\n",
    "        self.out_channels = out_channels\n",
    "        self.kernel_size = kernel_size\n",
    "        self.weight_size = (self.out_channels, self.in_channels, self.kernel_size, self.kernel_size)\n",
    "        self.stride = stride\n",
    "\n",
    "        self.W = {'val': np.random.standard_normal(self.weight_size), 'grad': 0}\n",
    "        self.b = {'val':  np.random.standard_normal((self.out_channels,1)), 'grad': 0}\n",
    "        \n",
    "        self.cache = None\n",
    "\n",
    "    def forward(self, x):\n",
    "        (N,C,H,W) = x.shape\n",
    "        self.input_shape = x.shape\n",
    "        H_out = (H - self.kernel_size) // self.stride + 1\n",
    "        W_out = (W - self.kernel_size) // self.stride + 1\n",
    "        conv_out = np.zeros((N, self.out_channels, H_out, W_out))\n",
    "        self.col_image = []\n",
    "        \n",
    "        weight_cols = self.W['val'].reshape(self.out_channels, -1)\n",
    "        self.col_image = split_by_strides(x,self.kernel_size,self.kernel_size,self.stride)\n",
    "        conv_out = (np.dot(self.col_image, weight_cols.T) + self.b['val'].T).transpose(0,2,1).reshape(N, self.out_channels, H_out, W_out)\n",
    "        \n",
    "        return conv_out\n",
    "        \n",
    "    def backward(self, error):\n",
    "        (N,C,_,_) = error.shape\n",
    "        error_col = error.reshape(N,C,-1)\n",
    "        for i in range(N):\n",
    "            self.W['grad'] += np.dot(error_col[i], self.col_image[i]).reshape(self.W['val'].shape)\n",
    "        self.b['grad'] += np.sum(error_col, axis=(0,2)).reshape(self.b['val'].shape)\n",
    "        \n",
    "        error_pad =np.pad(error, ((0,0), (0,0), (self.kernel_size - 1, self.kernel_size - 1),\n",
    "                          (self.kernel_size - 1, self.kernel_size - 1)), 'constant', constant_values=0)\n",
    "        \n",
    "        flip_weights = self.W['val'][:, :, ::-1, ::-1]\n",
    "        flip_weights = flip_weights.swapaxes(0,1) # hard to make sure\n",
    "        col_flip_weights = flip_weights.reshape(self.in_channels, -1)\n",
    "        \n",
    "#         col_pad_delta = np.array([im2col(error_pad[i][np.newaxis, :], self.kernel_size, self.stride) for i in range(N)])\n",
    "        col_pad_delta = split_by_strides(error_pad,self.kernel_size,self.kernel_size,self.stride)\n",
    "        next_delta = np.dot(col_pad_delta, col_flip_weights.T)\n",
    "        next_delta = np.reshape(next_delta.transpose(0,2,1), self.input_shape)\n",
    "        \n",
    "        return next_delta\n",
    "\n",
    "def im2col(image, kernel_size, stride):\n",
    "    (N, C, H, W) = image.shape\n",
    "    image_col = []\n",
    "    for i in range(0, H - kernel_size + 1, stride):\n",
    "        for j in range(0, W - kernel_size + 1, stride):\n",
    "            col = image[:, :, i:i+kernel_size, j:j+kernel_size].reshape(-1)\n",
    "            image_col.append(col)\n",
    "    image_col = np.array(image_col)\n",
    "    return image_col\n",
    "\n",
    "def im2col_fast(image, kernel_size, stride):\n",
    "    # Parameters\n",
    "    N, C, H, W = image.shape\n",
    "    H_out = (H - kernel_size) // stride + 1\n",
    "    W_out = (W - kernel_size) // stride + 1\n",
    "    shape = (N, C, H_out, W_out, kernel_size, kernel_size)\n",
    "    strides = (*image.strides[:-2], image.strides[-2]*stride,\n",
    "               image.strides[-1]*stride, *image.strides[-2:])\n",
    "\n",
    "    out_view = np.lib.stride_tricks.as_strided(image, shape=shape, strides=stride)\n",
    "    return out_view\n",
    "\n",
    "def split_by_strides(X, kh, kw, s):\n",
    "    N, C, H, W = X.shape\n",
    "    oh = (H - kh) // s + 1\n",
    "    ow = (W - kw) // s + 1\n",
    "    strides = (*X.strides[:-2], X.strides[-2]*s, X.strides[-1]*s, *X.strides[-2:])\n",
    "    A = np.lib.stride_tricks.as_strided(X, shape=(N,C,oh,ow,kh,kw), strides=strides)\n",
    "    return A.transpose(0,2,3,1,4,5).reshape(N,oh*ow,C*kw*kh)"
   ]
  },
  {
   "cell_type": "code",
   "execution_count": 67,
   "metadata": {},
   "outputs": [],
   "source": [
    "def split_by_strides(X, kh, kw, s):\n",
    "    N, C, H, W = X.shape\n",
    "    oh = (H - kh) // s + 1\n",
    "    ow = (W - kw) // s + 1\n",
    "    strides = (*X.strides[:-2], X.strides[-2]*s, X.strides[-1]*s, *X.strides[-2:])\n",
    "    A = np.lib.stride_tricks.as_strided(X, shape=(N,C,oh,ow,kh,kw), strides=strides)\n",
    "    return A.transpose(0,2,3,1,4,5).reshape(N,oh*ow,C*kw*kh)"
   ]
  },
  {
   "cell_type": "code",
   "execution_count": null,
   "metadata": {},
   "outputs": [],
   "source": [
    "class MaxPool2d:\n",
    "    def __init__(self, pool_h, pool_w, stride=1, pad=0):\n",
    "        self.pool_h = pool_h\n",
    "        self.pool_w = pool_w\n",
    "        self.stride = stride\n",
    "        self.pad = pad\n",
    "        \n",
    "        self.x = None\n",
    "        self.arg_max = None\n",
    "\n",
    "    def forward(self, x):\n",
    "        N, C, H, W = x.shape\n",
    "        out_h = int(1 + (H - self.pool_h) / self.stride)\n",
    "        out_w = int(1 + (W - self.pool_w) / self.stride)\n",
    "        \n",
    "        col = im2col(x, self.pool_h, self.pool_w, self.stride, self.pad)\n",
    "        col = col.reshape(-1, self.pool_h*self.pool_w)\n",
    "        \n",
    "        arg_max = np.argmax(col, axis=1)\n",
    "        out = np.max(col, axis=1)\n",
    "        # 转换\n",
    "        out = out.reshape(N, out_h, out_w, C).transpose(0, 3, 1, 2)\n",
    "\n",
    "        self.x = x\n",
    "        self.arg_max = arg_max\n",
    "\n",
    "        return out\n",
    "\n",
    "    def backward(self, dout):\n",
    "        dout = dout.transpose(0, 2, 3, 1)\n",
    "        \n",
    "        pool_size = self.pool_h * self.pool_w\n",
    "        dmax = np.zeros((dout.size, pool_size))\n",
    "        dmax[np.arange(self.arg_max.size), self.arg_max.flatten()] = dout.flatten()\n",
    "        dmax = dmax.reshape(dout.shape + (pool_size,)) \n",
    "        \n",
    "        dcol = dmax.reshape(dmax.shape[0] * dmax.shape[1] * dmax.shape[2], -1)\n",
    "        dx = col2im(dcol, self.x.shape, self.pool_h, self.pool_w, self.stride, self.pad)\n",
    "        \n",
    "        return dx\n",
    "    \n",
    "def im2col(input_data, filter_h, filter_w, stride=1, pad=0):\n",
    "    \"\"\"\n",
    "    Parameters\n",
    "    ----------\n",
    "    input_data : 由(数据量, 通道, 高, 长)的4维数组构成的输入数据\n",
    "    filter_h : 卷积核的高\n",
    "    filter_w : 卷积核的长\n",
    "    stride : 步幅\n",
    "    pad : 填充\n",
    "\n",
    "    Returns\n",
    "    -------\n",
    "    col : 2维数组\n",
    "    \"\"\"\n",
    "    # 输入数据的形状\n",
    "    # N：批数目，C：通道数，H：输入数据高，W：输入数据长\n",
    "    N, C, H, W = input_data.shape  \n",
    "    out_h = (H + 2*pad - filter_h)//stride + 1  # 输出数据的高\n",
    "    out_w = (W + 2*pad - filter_w)//stride + 1  # 输出数据的长\n",
    "    # 填充 H,W\n",
    "    img = np.pad(input_data, [(0,0), (0,0), (pad, pad), (pad, pad)], 'constant')\n",
    "    # (N, C, filter_h, filter_w, out_h, out_w)的0矩阵\n",
    "    col = np.zeros((N, C, filter_h, filter_w, out_h, out_w))\n",
    "    \n",
    "    for y in range(filter_h):\n",
    "        y_max = y + stride*out_h\n",
    "        for x in range(filter_w):\n",
    "            x_max = x + stride*out_w\n",
    "            col[:, :, y, x, :, :] = img[:, :, y:y_max:stride, x:x_max:stride]\n",
    "    # 按(0, 4, 5, 1, 2, 3)顺序，交换col的列，然后改变形状\n",
    "    col = col.transpose(0, 4, 5, 1, 2, 3).reshape(N*out_h*out_w, -1)\n",
    "    return col\n",
    "\n",
    "def col2im(col, input_shape, filter_h, filter_w, stride=1, pad=0):\n",
    "    N, C, H, W = input_shape\n",
    "    out_h = (H + 2*pad - filter_h)//stride + 1\n",
    "    out_w = (W + 2*pad - filter_w)//stride + 1\n",
    "    col = col.reshape(N, out_h, out_w, C, filter_h, filter_w).transpose(0, 3, 4, 5, 1, 2)\n",
    "\n",
    "    img = np.zeros((N, C, H + 2*pad + stride - 1, W + 2*pad + stride - 1))\n",
    "    for y in range(filter_h):\n",
    "        y_max = y + stride*out_h\n",
    "        for x in range(filter_w):\n",
    "            x_max = x + stride*out_w\n",
    "            img[:, :, y:y_max:stride, x:x_max:stride] += col[:, :, y, x, :, :]\n",
    "\n",
    "    return img[:, :, pad:H + pad, pad:W + pad]"
   ]
  },
  {
   "cell_type": "code",
   "execution_count": 70,
   "metadata": {},
   "outputs": [],
   "source": [
    "w = np.arange(28*28*16).reshape(16,1,28,28)"
   ]
  },
  {
   "cell_type": "code",
   "execution_count": 23,
   "metadata": {},
   "outputs": [
    {
     "data": {
      "text/plain": [
       "array([[0, 1, 2, 3, 4, 5, 6, 7]])"
      ]
     },
     "execution_count": 23,
     "metadata": {},
     "output_type": "execute_result"
    }
   ],
   "source": [
    "weight = np.arange(8).reshape(1,2,2,2).reshape(1,-1)\n",
    "weight"
   ]
  },
  {
   "cell_type": "code",
   "execution_count": 71,
   "metadata": {},
   "outputs": [
    {
     "name": "stdout",
     "output_type": "stream",
     "text": [
      "5.22 ms ± 246 µs per loop (mean ± std. dev. of 7 runs, 100 loops each)\n"
     ]
    }
   ],
   "source": [
    "%timeit im2col(w,5,1)"
   ]
  },
  {
   "cell_type": "code",
   "execution_count": 72,
   "metadata": {},
   "outputs": [
    {
     "name": "stdout",
     "output_type": "stream",
     "text": [
      "525 µs ± 22.8 µs per loop (mean ± std. dev. of 7 runs, 1000 loops each)\n"
     ]
    }
   ],
   "source": [
    "%timeit split_by_strides(w,5,5,1)"
   ]
  },
  {
   "cell_type": "code",
   "execution_count": 54,
   "metadata": {},
   "outputs": [
    {
     "data": {
      "text/plain": [
       "(1, 32)"
      ]
     },
     "execution_count": 54,
     "metadata": {},
     "output_type": "execute_result"
    }
   ],
   "source": [
    "w[:, :, ::-1, ::-1].swapaxes(0,1).reshape(1,-1).shape"
   ]
  },
  {
   "cell_type": "code",
   "execution_count": 55,
   "metadata": {},
   "outputs": [
    {
     "data": {
      "text/plain": [
       "array([[[[ 0,  1,  2],\n",
       "         [ 3,  4,  5],\n",
       "         [ 6,  7,  8]]],\n",
       "\n",
       "\n",
       "       [[[ 9, 10, 11],\n",
       "         [12, 13, 14],\n",
       "         [15, 16, 17]]]])"
      ]
     },
     "execution_count": 55,
     "metadata": {},
     "output_type": "execute_result"
    }
   ],
   "source": [
    "img = np.arange(18).reshape(2,1,3,3)\n",
    "img"
   ]
  },
  {
   "cell_type": "code",
   "execution_count": 56,
   "metadata": {},
   "outputs": [],
   "source": [
    "conv = Conv2d(1,6,2)"
   ]
  },
  {
   "cell_type": "code",
   "execution_count": 57,
   "metadata": {},
   "outputs": [
    {
     "data": {
      "text/plain": [
       "array([[[[ -2.04852598,  -2.16593824],\n",
       "         [ -2.40076276,  -2.51817502]],\n",
       "\n",
       "        [[ -2.2645214 ,  -1.04404273],\n",
       "         [  1.3969146 ,   2.61739326]],\n",
       "\n",
       "        [[ -6.11816476,  -8.0040895 ],\n",
       "         [-11.77593899, -13.66186374]],\n",
       "\n",
       "        [[  2.59460073,   2.63639962],\n",
       "         [  2.7199974 ,   2.76179629]],\n",
       "\n",
       "        [[ -2.28302556,  -3.80568747],\n",
       "         [ -6.85101129,  -8.37367319]],\n",
       "\n",
       "        [[ -2.47978684,  -2.36803353],\n",
       "         [ -2.1445269 ,  -2.03277359]]],\n",
       "\n",
       "\n",
       "       [[[ -3.10523632,  -3.22264857],\n",
       "         [ -3.45747309,  -3.57488535]],\n",
       "\n",
       "        [[  8.71978659,   9.94026525],\n",
       "         [ 12.38122258,  13.60170125]],\n",
       "\n",
       "        [[-23.09148747, -24.97741221],\n",
       "         [-28.7492617 , -30.63518645]],\n",
       "\n",
       "        [[  2.97079072,   3.01258961],\n",
       "         [  3.09618739,   3.13798627]],\n",
       "\n",
       "        [[-15.98698273, -17.50964464],\n",
       "         [-20.55496846, -22.07763036]],\n",
       "\n",
       "        [[ -1.47400703,  -1.36225371],\n",
       "         [ -1.13874709,  -1.02699377]]]])"
      ]
     },
     "execution_count": 57,
     "metadata": {},
     "output_type": "execute_result"
    }
   ],
   "source": [
    "out = conv.forward(img)\n",
    "out"
   ]
  },
  {
   "cell_type": "code",
   "execution_count": 58,
   "metadata": {},
   "outputs": [
    {
     "data": {
      "text/plain": [
       "array([[[[-1.04852598e+00, -1.16593824e+00],\n",
       "         [-1.40076276e+00, -1.51817502e+00]],\n",
       "\n",
       "        [[-1.26452140e+00, -4.40427313e-02],\n",
       "         [ 2.39691460e+00,  3.61739326e+00]],\n",
       "\n",
       "        [[-5.11816476e+00, -7.00408950e+00],\n",
       "         [-1.07759390e+01, -1.26618637e+01]],\n",
       "\n",
       "        [[ 3.59460073e+00,  3.63639962e+00],\n",
       "         [ 3.71999740e+00,  3.76179629e+00]],\n",
       "\n",
       "        [[-1.28302556e+00, -2.80568747e+00],\n",
       "         [-5.85101129e+00, -7.37367319e+00]],\n",
       "\n",
       "        [[-1.47978684e+00, -1.36803353e+00],\n",
       "         [-1.14452690e+00, -1.03277359e+00]]],\n",
       "\n",
       "\n",
       "       [[[-2.10523632e+00, -2.22264857e+00],\n",
       "         [-2.45747309e+00, -2.57488535e+00]],\n",
       "\n",
       "        [[ 9.71978659e+00,  1.09402653e+01],\n",
       "         [ 1.33812226e+01,  1.46017012e+01]],\n",
       "\n",
       "        [[-2.20914875e+01, -2.39774122e+01],\n",
       "         [-2.77492617e+01, -2.96351864e+01]],\n",
       "\n",
       "        [[ 3.97079072e+00,  4.01258961e+00],\n",
       "         [ 4.09618739e+00,  4.13798627e+00]],\n",
       "\n",
       "        [[-1.49869827e+01, -1.65096446e+01],\n",
       "         [-1.95549685e+01, -2.10776304e+01]],\n",
       "\n",
       "        [[-4.74007026e-01, -3.62253713e-01],\n",
       "         [-1.38747088e-01, -2.69937749e-02]]]])"
      ]
     },
     "execution_count": 58,
     "metadata": {},
     "output_type": "execute_result"
    }
   ],
   "source": [
    "y = out + 1\n",
    "y"
   ]
  },
  {
   "cell_type": "code",
   "execution_count": 59,
   "metadata": {},
   "outputs": [
    {
     "name": "stdout",
     "output_type": "stream",
     "text": [
      "(2, 9, 24)\n",
      "(2, 9, 1) (2, 1, 9)\n"
     ]
    },
    {
     "data": {
      "text/plain": [
       "array([[[[-0.14055667,  2.09570952,  2.23626619],\n",
       "         [-2.99235236, -2.15196805,  0.84038432],\n",
       "         [-2.8517957 , -4.24767757, -1.39588187]]],\n",
       "\n",
       "\n",
       "       [[[-0.14055667,  2.09570952,  2.23626619],\n",
       "         [-2.99235236, -2.15196805,  0.84038432],\n",
       "         [-2.8517957 , -4.24767757, -1.39588187]]]])"
      ]
     },
     "execution_count": 59,
     "metadata": {},
     "output_type": "execute_result"
    }
   ],
   "source": [
    "conv.backward(y - out)"
   ]
  },
  {
   "cell_type": "code",
   "execution_count": 128,
   "metadata": {},
   "outputs": [
    {
     "data": {
      "text/plain": [
       "array([8., 8., 8., 8., 8., 8.])"
      ]
     },
     "execution_count": 128,
     "metadata": {},
     "output_type": "execute_result"
    }
   ],
   "source": [
    "a = 0\n",
    "a += np.sum((y-out).reshape(2,6,-1), axis=(0,2))\n",
    "a"
   ]
  },
  {
   "cell_type": "code",
   "execution_count": 28,
   "metadata": {},
   "outputs": [
    {
     "data": {
      "text/plain": [
       "array([[8.],\n",
       "       [8.],\n",
       "       [8.],\n",
       "       [8.],\n",
       "       [8.],\n",
       "       [8.]])"
      ]
     },
     "execution_count": 28,
     "metadata": {},
     "output_type": "execute_result"
    }
   ],
   "source": [
    "conv.b['grad']"
   ]
  }
 ],
 "metadata": {
  "kernelspec": {
   "display_name": "Python 3",
   "language": "python",
   "name": "python3"
  },
  "language_info": {
   "codemirror_mode": {
    "name": "ipython",
    "version": 3
   },
   "file_extension": ".py",
   "mimetype": "text/x-python",
   "name": "python",
   "nbconvert_exporter": "python",
   "pygments_lexer": "ipython3",
   "version": "3.7.4"
  }
 },
 "nbformat": 4,
 "nbformat_minor": 4
}
