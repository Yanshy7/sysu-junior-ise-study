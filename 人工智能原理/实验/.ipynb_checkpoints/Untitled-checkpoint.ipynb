{
 "cells": [
  {
   "cell_type": "code",
   "execution_count": 1,
   "metadata": {},
   "outputs": [],
   "source": [
    "import numpy as np\n",
    "import pickle\n",
    "import matplotlib\n",
    "import matplotlib.pyplot as plt\n",
    "import math\n",
    "from functools import reduce\n",
    "%matplotlib inline\n",
    "np.random.seed(42)"
   ]
  },
  {
   "cell_type": "code",
   "execution_count": 2,
   "metadata": {},
   "outputs": [],
   "source": [
    "def load():\n",
    "    with open(\"mnist.pkl\",'rb') as f:\n",
    "        mnist = pickle.load(f)\n",
    "    return mnist[\"training_images\"], mnist[\"training_labels\"], mnist[\"test_images\"], mnist[\"test_labels\"]"
   ]
  },
  {
   "cell_type": "code",
   "execution_count": 3,
   "metadata": {},
   "outputs": [],
   "source": [
    "X_train, Y_train, X_test, Y_test = load()"
   ]
  },
  {
   "cell_type": "code",
   "execution_count": 4,
   "metadata": {},
   "outputs": [
    {
     "data": {
      "text/plain": [
       "<matplotlib.image.AxesImage at 0x240f7834b38>"
      ]
     },
     "execution_count": 4,
     "metadata": {},
     "output_type": "execute_result"
    },
    {
     "data": {
      "image/png": "[encoded data removed]",
      "text/plain": [
       "<Figure size 432x288 with 1 Axes>"
      ]
     },
     "metadata": {
      "needs_background": "light"
     },
     "output_type": "display_data"
    }
   ],
   "source": [
    "plt.imshow(X_train[0].reshape(28,28))"
   ]
  },
  {
   "cell_type": "code",
   "execution_count": 5,
   "metadata": {},
   "outputs": [],
   "source": [
    "class FC:\n",
    "    def __init__(self, in_channel, out_channel):\n",
    "        self.W = {'val': np.random.standard_normal((in_channel,out_channel)), 'grad': 0}\n",
    "        self.b = {'val': np.random.randn(out_channel), 'grad': 0}\n",
    "        self.cache = None\n",
    "    \n",
    "    def forward(self, X):\n",
    "        out = np.dot(X, self.W) + self.b\n",
    "        self.cache = X\n",
    "        return out\n",
    "    \n",
    "    def backward(self, dout):\n",
    "        X = self.cache\n",
    "        dX = np.dot(dout, self.W['val'].T).reshape(X.shape)\n",
    "        self.W['grad'] = np.dot(X.reshape(X.shape[0], np.prod(X.shape[1:])).T, dout)\n",
    "        self.b['grad'] = np.sum(dout, axis=0)\n",
    "        self.update()\n",
    "        return dX\n",
    "    \n",
    "    def update(self, lr=0.001):\n",
    "        self.W['val'] -= lr*self.W['grad']\n",
    "        self.b['val'] -= lr*self.b['grad']"
   ]
  },
  {
   "cell_type": "code",
   "execution_count": 48,
   "metadata": {},
   "outputs": [],
   "source": [
    "class Conv2d:\n",
    "    def __init__(self, in_channels, out_channels, kernel_size, stride=1):\n",
    "        self.in_channels = in_channels\n",
    "        self.out_channels = out_channels\n",
    "        self.kernel_size = (kernel_size,kernel_size,in_channels,out_channels)\n",
    "        self.stride = stride\n",
    "        self.cache = 0\n",
    "        \n",
    "        self.W = {'val': np.random.standard_normal((self.kernel_size)), 'grad': np.zeros(self.kernel_size)}\n",
    "        self.b = {'val': np.random.standard_normal(out_channels), 'grad': np.zeros(out_channels)}\n",
    "        \n",
    "    def forward(self, x):\n",
    "        (N,Cin,H,W) = x.shape\n",
    "        self.input_shape = x.shape\n",
    "        H_ = int((H - self.kernel_size[0]) / self.stride + 1)\n",
    "        W_ = int((W - self.kernel_size[0]) / self.stride + 1)\n",
    "        col_weights = self.W['val'].reshape([-1,self.out_channels])\n",
    "        self.col_image = []\n",
    "        conv_out = np.zeros((N,self.out_channels,H_,W_))\n",
    "        for i in range(N):\n",
    "            img_i = x[i]\n",
    "            self.col_image_i = self.im2col(img_i,self.kernel_size[0],self.stride)\n",
    "            print(self.col_image_i.shape)\n",
    "            conv_out[i] = np.reshape(np.dot(self.col_image_i, col_weights) + self.b['val'],(H_,W_,-1)).transpose(2,0,1)\n",
    "            self.col_image.append(self.col_image_i)\n",
    "        self.col_image = np.array(self.col_image)\n",
    "        return conv_out\n",
    "    \n",
    "    def backward(self, dout):\n",
    "        (N,Cout,H_,W_) = dout.shape\n",
    "        col_dout = dout.reshape((N,Cout,-1))\n",
    "        \n",
    "        for i in range(self.input_shape[0]):\n",
    "            self.W['grad'] += np.dot(col_dout[i], self.col_image[i]).reshape(self.W['val'].shape)\n",
    "        self.b['grad'] += np.sum(col_dout,axis=(0,2)).reshape(self.b['val'].shape)\n",
    "        \n",
    "        dout_pad = np.pad(dout, ((0, 0), (0, 0), (self.kernel_size[0] - 1, self.kernel_size[0] - 1), (self.kernel_size[0] - 1, self.kernel_size[0] - 1)), 'constant', constant_values=0)\n",
    "        \n",
    "        weight_flip = self.W['val'][:,:,::-1,::-1]\n",
    "        weight_flip = np.swapaxes(weight_flip, 0, 1)\n",
    "        weight_flip_col = weight_flip.reshape(self.in_channels, -1)\n",
    "        \n",
    "        next_dout =  np.zeros((N, self.in_channels, self.input_shape[2], self.input_shape[3]))\n",
    "        for i in range(N):\n",
    "            dout_pad_image_batch_i = dout_pad[i,:]\n",
    "            dout_pad_image_batch_i_col = self.im2col(dout_pad_image_batch_i , self.kernel_size[0], self.stride)\n",
    "            next_dout[i] = np.reshape(np.dot(weight_flip_col, np.transpose(dout_pad_image_batch_i_col)), (self.in_channels, self.input_shape[2], self.input_shape[3]))\n",
    "        \n",
    "        return next_dout\n",
    "        \n",
    "    def im2col(self, image, ksize, stride):\n",
    "        # image is a 3d tensor([channel, height, width])\n",
    "        image_col = []\n",
    "        for i in range(0, image.shape[1] - ksize + 1, stride):\n",
    "            for j in range(0, image.shape[2] - ksize + 1, stride):\n",
    "                col = image[:,i:i + ksize, j:j + ksize].reshape([-1])\n",
    "                image_col.append(col)\n",
    "        image_col = np.array(image_col)\n",
    "        return image_col"
   ]
  },
  {
   "cell_type": "code",
   "execution_count": 7,
   "metadata": {},
   "outputs": [],
   "source": [
    "class MaxPool2d:\n",
    "    def __init__(self, kernel_size=2, stride=2):\n",
    "        self.kernel_size = kernel_size\n",
    "        self.stride = stride\n",
    "        self.mask = 0\n",
    "    \n",
    "    def forward(self, x):\n",
    "        (N,Cin,H,W) = x.shape\n",
    "        H_ = int(H/self.kernel_size)\n",
    "        W_ = int(W/self.kernel_size)\n",
    "        out = np.zeros((N, Cin, H_, W_))\n",
    "        self.mask = np.zeros(x.shape)\n",
    "        for n in range(N):\n",
    "            for cin in range(Cin):\n",
    "                for h in range(0, H, self.stride):\n",
    "                    for w in range(0, W, self.stride):\n",
    "                        out[n,cin,h//self.stride,w//self.stride] = np.max(x[n,cin,h:h + self.kernel_size, w:w + self.kernel_size])\n",
    "                        i,j = np.unravel_index(np.argmax(x[n,cin,h:h + self.kernel_size, w:w + self.kernel_size]),(self.kernel_size,self.kernel_size))\n",
    "                        self.mask[n,cin,i+h,j+w] = 1\n",
    "        return out\n",
    "    \n",
    "    def backward(self,dout):\n",
    "        return np.repeat(np.repeat(dout, self.stride, axis=2), self.stride, axis=3) * self.mask"
   ]
  },
  {
   "cell_type": "code",
   "execution_count": 24,
   "metadata": {},
   "outputs": [],
   "source": [
    "class LogSoftmax():\n",
    "    def __init__(self):\n",
    "        self.cache = None\n",
    "        self.loss = 0\n",
    "        \n",
    "    def forward(self, prediction):\n",
    "        self.prediction = prediction\n",
    "        exp_prediction = np.zeros(prediction.shape)\n",
    "        self.softmax = np.zeros(prediction.shape)\n",
    "        for n in range(prediction.shape[0]):\n",
    "            prediction[n, :] -= np.max(prediction[n, :]) # 防止上溢出\n",
    "            exp_prediction[n] = np.exp(prediction[n])\n",
    "            self.softmax[n] = exp_prediction[n]/np.sum(exp_prediction[n])\n",
    "        self.log_softmax = np.log(self.softmax)\n",
    "        \n",
    "        return self.log_softmax\n",
    "    \n",
    "    def backward(self):\n",
    "        pass"
   ]
  },
  {
   "cell_type": "code",
   "execution_count": 25,
   "metadata": {},
   "outputs": [],
   "source": [
    "class NLLLoss():\n",
    "    def __init__(self):\n",
    "        self.loss = 0\n",
    "    \n",
    "    def forward(self, pred, target):\n",
    "        N = pred.shape[0]\n",
    "        for n in range(N):\n",
    "            label = target[n]\n",
    "            self.loss += np.log(-pred[n,label])\n",
    "        return self.loss / N\n",
    "        \n",
    "    def backward(self):\n",
    "        pass"
   ]
  },
  {
   "cell_type": "code",
   "execution_count": 20,
   "metadata": {},
   "outputs": [],
   "source": [
    "class CrossEntropyLoss():\n",
    "    def __init__(self):\n",
    "        pass\n",
    "    \n",
    "    def get(self, Y_pred, Y_true):\n",
    "        N = Y_pred.shape[0]\n",
    "        logSoftmax = LogSoftmax()\n",
    "        nllLoss = NLLLoss()\n",
    "        prob = logSoftmax.forward(Y_pred)\n",
    "        loss = nllLoss.forward(prob, Y_true)\n",
    "        dout = prob.copy()\n",
    "        dout[np.arange(N), Y_true] -= 1\n",
    "        return loss, dout"
   ]
  },
  {
   "cell_type": "code",
   "execution_count": 11,
   "metadata": {},
   "outputs": [],
   "source": [
    "class SGD():\n",
    "    def __init__(self, params, lr):\n",
    "        self.l = len(params)\n",
    "        self.params = params\n",
    "        self"
   ]
  },
  {
   "cell_type": "code",
   "execution_count": 49,
   "metadata": {},
   "outputs": [],
   "source": [
    "batch = X_train[0:2].reshape(2,1,28,28)"
   ]
  },
  {
   "cell_type": "code",
   "execution_count": 50,
   "metadata": {},
   "outputs": [
    {
     "name": "stdout",
     "output_type": "stream",
     "text": [
      "(576, 25)\n",
      "(576, 25)\n"
     ]
    },
    {
     "data": {
      "text/plain": [
       "(2, 6, 24, 24)"
      ]
     },
     "execution_count": 50,
     "metadata": {},
     "output_type": "execute_result"
    }
   ],
   "source": [
    "conv2d = Conv2d(1,6,5)\n",
    "out = conv2d.forward(batch)\n",
    "out.shape"
   ]
  },
  {
   "cell_type": "code",
   "execution_count": 51,
   "metadata": {},
   "outputs": [],
   "source": [
    "real = out.copy() + 1"
   ]
  },
  {
   "cell_type": "code",
   "execution_count": 52,
   "metadata": {},
   "outputs": [],
   "source": [
    "dout = conv2d.backward(real-out)"
   ]
  },
  {
   "cell_type": "code",
   "execution_count": 53,
   "metadata": {},
   "outputs": [
    {
     "data": {
      "text/plain": [
       "array([[[[ -5.60940891, -10.83559184, -10.82332433, ...,  -0.57075499,\n",
       "           -0.5830225 ,   0.97290732],\n",
       "         [ -8.84154755, -18.74743301, -20.49830635, ...,  -1.93744294,\n",
       "           -0.1865696 ,   0.78923514],\n",
       "         [-12.66774302, -20.3079634 , -23.26653143, ...,   0.06372398,\n",
       "            3.02229201,   0.48989108],\n",
       "         ...,\n",
       "         [ -0.13819793,   2.60949862,   1.72871981, ...,   5.86016799,\n",
       "            6.7409468 ,  -1.06757788],\n",
       "         [  3.68799755,   4.17002901,   4.49694489, ...,   3.85900107,\n",
       "            3.5320852 ,  -0.76823382],\n",
       "         [ -0.19715702,   0.70554064,   1.61050725, ...,   1.68101308,\n",
       "            0.77604646,  -0.6356793 ]]],\n",
       "\n",
       "\n",
       "       [[[ -5.60940891, -10.83559184, -10.82332433, ...,  -0.57075499,\n",
       "           -0.5830225 ,   0.97290732],\n",
       "         [ -8.84154755, -18.74743301, -20.49830635, ...,  -1.93744294,\n",
       "           -0.1865696 ,   0.78923514],\n",
       "         [-12.66774302, -20.3079634 , -23.26653143, ...,   0.06372398,\n",
       "            3.02229201,   0.48989108],\n",
       "         ...,\n",
       "         [ -0.13819793,   2.60949862,   1.72871981, ...,   5.86016799,\n",
       "            6.7409468 ,  -1.06757788],\n",
       "         [  3.68799755,   4.17002901,   4.49694489, ...,   3.85900107,\n",
       "            3.5320852 ,  -0.76823382],\n",
       "         [ -0.19715702,   0.70554064,   1.61050725, ...,   1.68101308,\n",
       "            0.77604646,  -0.6356793 ]]]])"
      ]
     },
     "execution_count": 53,
     "metadata": {},
     "output_type": "execute_result"
    }
   ],
   "source": [
    "dout"
   ]
  },
  {
   "cell_type": "code",
   "execution_count": 52,
   "metadata": {},
   "outputs": [
    {
     "data": {
      "text/plain": [
       "<matplotlib.image.AxesImage at 0x2b4068122c8>"
      ]
     },
     "execution_count": 52,
     "metadata": {},
     "output_type": "execute_result"
    },
    {
     "data": {
      "image/png": "[encoded data removed]",
      "text/plain": [
       "<Figure size 432x288 with 1 Axes>"
      ]
     },
     "metadata": {
      "needs_background": "light"
     },
     "output_type": "display_data"
    }
   ],
   "source": [
    "pool2d = MaxPool2d()\n",
    "out = pool2d.forward(batch)\n",
    "plt.imshow(pool2d.mask[0].reshape(28,28))"
   ]
  },
  {
   "cell_type": "code",
   "execution_count": 9,
   "metadata": {},
   "outputs": [
    {
     "data": {
      "text/plain": [
       "<matplotlib.image.AxesImage at 0x2b402101d08>"
      ]
     },
     "execution_count": 9,
     "metadata": {},
     "output_type": "execute_result"
    },
    {
     "data": {
      "image/png": "[encoded data removed]",
      "text/plain": [
       "<Figure size 432x288 with 1 Axes>"
      ]
     },
     "metadata": {
      "needs_background": "light"
     },
     "output_type": "display_data"
    }
   ],
   "source": [
    "plt.imshow(out[0,0,:,:].reshape(24,24))"
   ]
  },
  {
   "cell_type": "code",
   "execution_count": null,
   "metadata": {},
   "outputs": [],
   "source": []
  }
 ],
 "metadata": {
  "kernelspec": {
   "display_name": "Machine Learning",
   "language": "python",
   "name": "ml"
  },
  "language_info": {
   "codemirror_mode": {
    "name": "ipython",
    "version": 3
   },
   "file_extension": ".py",
   "mimetype": "text/x-python",
   "name": "python",
   "nbconvert_exporter": "python",
   "pygments_lexer": "ipython3",
   "version": "3.6.6"
  }
 },
 "nbformat": 4,
 "nbformat_minor": 4
}
