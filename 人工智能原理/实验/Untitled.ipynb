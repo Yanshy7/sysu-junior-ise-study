{
 "cells": [
  {
   "cell_type": "code",
   "execution_count": 4,
   "metadata": {},
   "outputs": [],
   "source": [
    "import numpy as np\n",
    "import pickle\n",
    "import matplotlib\n",
    "import matplotlib.pyplot as plt\n",
    "import math\n",
    "from functools import reduce\n",
    "%matplotlib inline\n",
    "np.random.seed(42)"
   ]
  },
  {
   "cell_type": "code",
   "execution_count": 4,
   "metadata": {},
   "outputs": [],
   "source": [
    "def load():\n",
    "    with open(\"mnist.pkl\",'rb') as f:\n",
    "        mnist = pickle.load(f)\n",
    "    return mnist[\"training_images\"], mnist[\"training_labels\"], mnist[\"test_images\"], mnist[\"test_labels\"]"
   ]
  },
  {
   "cell_type": "code",
   "execution_count": 6,
   "metadata": {},
   "outputs": [],
   "source": [
    "X_train, Y_train, X_test, Y_test = load()"
   ]
  },
  {
   "cell_type": "code",
   "execution_count": 15,
   "metadata": {},
   "outputs": [
    {
     "data": {
      "text/plain": [
       "<matplotlib.image.AxesImage at 0x1c7b4ee4248>"
      ]
     },
     "execution_count": 15,
     "metadata": {},
     "output_type": "execute_result"
    },
    {
     "data": {
      "image/png": "[encoded data removed]",
      "text/plain": [
       "<Figure size 432x288 with 1 Axes>"
      ]
     },
     "metadata": {
      "needs_background": "light"
     },
     "output_type": "display_data"
    }
   ],
   "source": [
    "plt.imshow(X_train[0].reshape(28,28))"
   ]
  },
  {
   "cell_type": "code",
   "execution_count": 16,
   "metadata": {},
   "outputs": [],
   "source": [
    "class FC:\n",
    "    def __init__(self, in_channel, out_channel):\n",
    "        self.W = {'val': np.random.normal(0,1,(in_channel,out_channel)), 'grad': 0}\n",
    "        self.b = {'val': np.random.randn(out_channel), 'grad': 0}\n",
    "        self.cache = None\n",
    "    \n",
    "    def forward(self, X):\n",
    "        out = np.dot(X, self.W) + self.b\n",
    "        self.cache = X\n",
    "        return out\n",
    "    \n",
    "    def backward(self, dout):\n",
    "        X = self.cache\n",
    "        dX = np.dot(dout, self.W['val'].T).reshape(X.shape)\n",
    "        self.W['grad'] = np.dot(X.reshape(X.shape[0], np.prod(X.shape[1:])).T, dout)\n",
    "        self.b['grad'] = np.sum(dout, axis=0)\n",
    "        self.update()\n",
    "        return dX\n",
    "    \n",
    "    def update(self, lr=0.001):\n",
    "        self.W['val'] -= lr*self.W['grad']\n",
    "        self.b['val'] -= lr*self.b['grad']"
   ]
  },
  {
   "cell_type": "code",
   "execution_count": 2,
   "metadata": {},
   "outputs": [],
   "source": [
    "class Conv2D():\n",
    "    def __init__(self, shape, output_channels, ksize=3, stride=1, method='VALID'):\n",
    "        self.input_shape = shape\n",
    "        self.output_channels = output_channels\n",
    "        self.input_channels = shape[-1]\n",
    "        self.batchsize = shape[0]\n",
    "        self.stride = stride\n",
    "        self.ksize = ksize\n",
    "        self.method = method\n",
    "\n",
    "        weights_scale = math.sqrt(reduce(lambda x, y: x * y, shape) / self.output_channels)\n",
    "        self.weights = np.random.standard_normal(\n",
    "            (ksize, ksize, self.input_channels, self.output_channels)) / weights_scale\n",
    "        self.bias = np.random.standard_normal(self.output_channels) / weights_scale\n",
    "\n",
    "        if method == 'VALID':\n",
    "            self.eta = np.zeros((shape[0], (shape[1] - ksize + 1) / self.stride, (shape[1] - ksize + 1) / self.stride,\n",
    "             self.output_channels))\n",
    "\n",
    "        if method == 'SAME':\n",
    "            self.eta = np.zeros((shape[0], shape[1]/self.stride, shape[2]/self.stride,self.output_channels))\n",
    "\n",
    "        self.w_gradient = np.zeros(self.weights.shape)\n",
    "        self.b_gradient = np.zeros(self.bias.shape)\n",
    "        self.output_shape = self.eta.shape\n",
    "\n",
    "        if (shape[1] - ksize) % stride != 0:\n",
    "            print('input tensor width can\\'t fit stride')\n",
    "        if (shape[2] - ksize) % stride != 0:\n",
    "            print('input tensor height can\\'t fit stride')\n",
    "\n",
    "    def forward(self, x):\n",
    "        col_weights = self.weights.reshape([-1, self.output_channels])\n",
    "        if self.method == 'SAME':\n",
    "            x = np.pad(x, (\n",
    "                (0, 0), (self.ksize / 2, self.ksize / 2), (self.ksize / 2, self.ksize / 2), (0, 0)),\n",
    "                             'constant', constant_values=0)\n",
    "\n",
    "        self.col_image = []\n",
    "        conv_out = np.zeros(self.eta.shape)\n",
    "        for i in range(self.batchsize):\n",
    "            img_i = x[i][np.newaxis, :]\n",
    "            self.col_image_i = im2col(img_i, self.ksize, self.stride)\n",
    "            conv_out[i] = np.reshape(np.dot(self.col_image_i, col_weights) + self.bias, self.eta[0].shape)\n",
    "            self.col_image.append(self.col_image_i)\n",
    "        self.col_image = np.array(self.col_image)\n",
    "        return conv_out\n",
    "\n",
    "    def gradient(self, eta):\n",
    "        self.eta = eta\n",
    "        col_eta = np.reshape(eta, [self.batchsize, -1, self.output_channels])\n",
    "\n",
    "        for i in range(self.batchsize):\n",
    "            self.w_gradient += np.dot(self.col_image[i].T, col_eta[i]).reshape(self.weights.shape)\n",
    "        self.b_gradient += np.sum(col_eta, axis=(0, 1))\n",
    "\n",
    "        # deconv of padded eta with flippd kernel to get next_eta\n",
    "        if self.method == 'VALID':\n",
    "            pad_eta = np.pad(self.eta, (\n",
    "                (0, 0), (self.ksize - 1, self.ksize - 1), (self.ksize - 1, self.ksize - 1), (0, 0)),\n",
    "                             'constant', constant_values=0)\n",
    "\n",
    "        if self.method == 'SAME':\n",
    "            pad_eta = np.pad(self.eta, (\n",
    "                (0, 0), (self.ksize / 2, self.ksize / 2), (self.ksize / 2, self.ksize / 2), (0, 0)),\n",
    "                             'constant', constant_values=0)\n",
    "\n",
    "        flip_weights = np.flipud(np.fliplr(self.weights))\n",
    "        flip_weights = flip_weights.swapaxes(2, 3)\n",
    "        col_flip_weights = flip_weights.reshape([-1, self.input_channels])\n",
    "        col_pad_eta = np.array([im2col(pad_eta[i][np.newaxis, :], self.ksize, self.stride) for i in range(self.batchsize)])\n",
    "        next_eta = np.dot(col_pad_eta, col_flip_weights)\n",
    "        next_eta = np.reshape(next_eta, self.input_shape)\n",
    "        return next_eta\n",
    "\n",
    "    def backward(self, alpha=0.00001, weight_decay=0.0004):\n",
    "        # weight_decay = L2 regularization\n",
    "        self.weights *= (1 - weight_decay)\n",
    "        self.bias *= (1 - weight_decay)\n",
    "        self.weights -= alpha * self.w_gradient\n",
    "        self.bias -= alpha * self.bias\n",
    "\n",
    "        self.w_gradient = np.zeros(self.weights.shape)\n",
    "        self.b_gradient = np.zeros(self.bias.shape)\n",
    "\n",
    "\n",
    "\n",
    "def im2col(image, ksize, stride):\n",
    "    # image is a 4d tensor([batchsize, width ,height, channel])\n",
    "    image_col = []\n",
    "    for i in range(0, image.shape[1] - ksize + 1, stride):\n",
    "        for j in range(0, image.shape[2] - ksize + 1, stride):\n",
    "            col = image[:, i:i + ksize, j:j + ksize, :].reshape([-1])\n",
    "            image_col.append(col)\n",
    "    image_col = np.array(image_col)\n",
    "\n",
    "    return image_col"
   ]
  },
  {
   "cell_type": "code",
   "execution_count": 18,
   "metadata": {},
   "outputs": [],
   "source": [
    "class MaxPool2d:\n",
    "    pass"
   ]
  },
  {
   "cell_type": "code",
   "execution_count": 27,
   "metadata": {},
   "outputs": [
    {
     "data": {
      "text/plain": [
       "array([-0.46063877,  1.05712223,  0.34361829, -1.76304016,  0.32408397])"
      ]
     },
     "execution_count": 27,
     "metadata": {},
     "output_type": "execute_result"
    }
   ],
   "source": [
    "np.random.randn(5)"
   ]
  }
 ],
 "metadata": {
  "kernelspec": {
   "display_name": "Python 3",
   "language": "python",
   "name": "python3"
  },
  "language_info": {
   "codemirror_mode": {
    "name": "ipython",
    "version": 3
   },
   "file_extension": ".py",
   "mimetype": "text/x-python",
   "name": "python",
   "nbconvert_exporter": "python",
   "pygments_lexer": "ipython3",
   "version": "3.7.4"
  }
 },
 "nbformat": 4,
 "nbformat_minor": 4
}
